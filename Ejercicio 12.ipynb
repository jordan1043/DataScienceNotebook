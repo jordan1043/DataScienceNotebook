{
  "metadata": {
    "kernelspec": {
      "name": "python",
      "display_name": "Python (Pyodide)",
      "language": "python"
    },
    "language_info": {
      "codemirror_mode": {
        "name": "python",
        "version": 3
      },
      "file_extension": ".py",
      "mimetype": "text/x-python",
      "name": "python",
      "nbconvert_exporter": "python",
      "pygments_lexer": "ipython3",
      "version": "3.8"
    }
  },
  "nbformat_minor": 5,
  "nbformat": 4,
  "cells": [
    {
      "id": "b98a0026-e16e-4c8b-8123-f4aaf96cf524",
      "cell_type": "markdown",
      "source": "## Data Science Tools and Ecosystem\n\n# In this notebook, Data Science Tools and Ecosystem are summarized.\n\n## Some of the popular languages that Data Scientists use are:\n1. Python\n2. R\n3. SQL\n\n## Some of the commonly used libraries used by Data Scientists include:\n1. Pandas\n2. NumPy\n3. TensorFlow\n\n## Data Science Tools\n| Data Science Tools |\n|--------------------|\n| Jupyter Notebook |\n| RStudio |\n| Apache Zeppelin |\n",
      "metadata": {}
    },
    {
      "id": "f47e5007-40ac-4299-a7ed-527cce19ff80",
      "cell_type": "code",
      "source": "\n### Below are a few examples of evaluating arithmetic expressions in Python.\n\n# This is a simple arithmetic expression to multiply then add integers.\nprint((3*4)+5)\n\n# This will convert 200 minutes to hours by dividing by 60.\nprint(200 / 60)\n",
      "metadata": {
        "trusted": true
      },
      "outputs": [
        {
          "name": "stdout",
          "output_type": "stream",
          "text": "17\n3.3333333333333335\n"
        }
      ],
      "execution_count": 2
    },
    {
      "id": "cb1b9595-7941-4e2d-ba74-bde4f3872b5a",
      "cell_type": "markdown",
      "source": "## Objectives:\n- List popular languages for Data Science\n- Identify commonly used libraries in Data Science\n- Understand arithmetic expressions in Python\n- Convert time units using Python\n\n## Author\nJordan Carmona Ferrada",
      "metadata": {
        "jp-MarkdownHeadingCollapsed": true
      }
    }
  ]
}